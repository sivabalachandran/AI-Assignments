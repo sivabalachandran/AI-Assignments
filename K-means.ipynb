{
 "cells": [
  {
   "cell_type": "code",
   "execution_count": 132,
   "metadata": {
    "collapsed": true
   },
   "outputs": [],
   "source": [
    "import math\n",
    "\n",
    "import matplotlib.pyplot as plt\n",
    "import numpy as np\n",
    "import pandas as pd"
   ]
  },
  {
   "cell_type": "code",
   "execution_count": 133,
   "outputs": [
    {
     "name": "stdout",
     "output_type": "stream",
     "text": [
      "[[ 2.   4. ]\n",
      " [ 1.7  2.8]\n",
      " [ 7.   8. ]\n",
      " [ 8.6  8. ]\n",
      " [ 3.4  1.5]\n",
      " [ 9.  11. ]]\n"
     ]
    },
    {
     "data": {
      "text/plain": "<Figure size 432x288 with 1 Axes>",
      "image/png": "[encoded data removed]"
     },
     "metadata": {
      "needs_background": "light"
     },
     "output_type": "display_data"
    }
   ],
   "source": [
    "X = np.array(\n",
    "    [[2, 4],\n",
    "     [1.7, 2.8],\n",
    "     [7, 8],\n",
    "     [8.6, 8],\n",
    "     [3.4, 1.5],\n",
    "     [9, 11]]\n",
    ")\n",
    "print(X)\n",
    "plt.scatter(X[:, 0], X[:, 1])\n",
    "plt.show()"
   ],
   "metadata": {
    "collapsed": false,
    "pycharm": {
     "name": "#%%\n"
    }
   }
  },
  {
   "cell_type": "code",
   "execution_count": 134,
   "outputs": [],
   "source": [
    "# Euclidean distance between 2 points.\n",
    "def euclidean_distance(point1, point2):\n",
    "    distance = math.sqrt((point2[0] - point1[0]) ** 2 + (point2[1] - point1[1]) ** 2)\n",
    "    return abs(distance)"
   ],
   "metadata": {
    "collapsed": false,
    "pycharm": {
     "name": "#%%\n"
    }
   }
  },
  {
   "cell_type": "code",
   "execution_count": 135,
   "outputs": [],
   "source": [
    "# Assign clusters based on centroids passed. It returns a dictionary of cluster and its associated points\n",
    "def assign_clusters(X, centroids):\n",
    "    clusters_map = {}\n",
    "    for point in X:\n",
    "        distance_points_centroids = []\n",
    "        for centroid in centroids:\n",
    "            distance_points_centroids.append(euclidean_distance(centroid, point))\n",
    "        # Returns the index of the smallest arg which here is the cluster.\n",
    "        clusters_map.setdefault(np.argmin(distance_points_centroids), []).append(point)\n",
    "    return clusters_map"
   ],
   "metadata": {
    "collapsed": false,
    "pycharm": {
     "name": "#%%\n"
    }
   }
  },
  {
   "cell_type": "code",
   "execution_count": 136,
   "outputs": [],
   "source": [
    "# Update the centroid value based on average distance between points.\n",
    "def update_centroid(clusters_map, number_clusters):\n",
    "    new_centroids = []\n",
    "    for c in range(number_clusters):\n",
    "        # Calulate the mean point based on points assigned to that cluster\n",
    "        cluster_mean = np.average(clusters_map[c], axis=0)\n",
    "        new_centroids.append(cluster_mean)\n",
    "    return new_centroids"
   ],
   "metadata": {
    "collapsed": false,
    "pycharm": {
     "name": "#%%\n"
    }
   }
  },
  {
   "cell_type": "code",
   "execution_count": 137,
   "outputs": [],
   "source": [
    "# Utility function to stop the iteration if the assignment does not change.\n",
    "def compare_exact(first, second):\n",
    "    if first.keys() != second.keys():\n",
    "        return False\n",
    "    return all(np.array_equal(first[key], second[key]) for key in first)"
   ],
   "metadata": {
    "collapsed": false,
    "pycharm": {
     "name": "#%%\n"
    }
   }
  },
  {
   "cell_type": "code",
   "execution_count": 138,
   "outputs": [
    {
     "name": "stdout",
     "output_type": "stream",
     "text": [
      "Initial centroid [[2.34092737 4.9508841 ]\n",
      " [4.83174042 2.75945251]]\n",
      "-------------------------Iteration 0 ---------------------------\n",
      "updated centroid [array([4.925, 6.45 ]), array([6.  , 4.75])]\n",
      "cluster[0] - [array([2., 4.]), array([1.7, 2.8]), array([7., 8.]), array([ 9., 11.])]\n",
      "cluster[1] - [array([8.6, 8. ]), array([3.4, 1.5])]\n",
      "-----------------------------------------------------\n",
      "-------------------------Iteration 1 ---------------------------\n",
      "updated centroid [array([6.65, 7.75]), array([2.55, 2.15])]\n",
      "cluster[0] - [array([2., 4.]), array([7., 8.]), array([8.6, 8. ]), array([ 9., 11.])]\n",
      "cluster[1] - [array([1.7, 2.8]), array([3.4, 1.5])]\n",
      "-----------------------------------------------------\n",
      "-------------------------Iteration 2 ---------------------------\n",
      "updated centroid [array([8.2, 9. ]), array([2.36666667, 2.76666667])]\n",
      "cluster[1] - [array([2., 4.]), array([1.7, 2.8]), array([3.4, 1.5])]\n",
      "cluster[0] - [array([7., 8.]), array([8.6, 8. ]), array([ 9., 11.])]\n",
      "-----------------------------------------------------\n",
      "-------------------------Iteration 3 ---------------------------\n",
      "Clusters are same as before, so exiting\n"
     ]
    }
   ],
   "source": [
    "centroids = 10 * np.random.random((2, 2))\n",
    "print(\"Initial centroid {}\".format(centroids))\n",
    "cluster_previous = {}\n",
    "for i in range(10):\n",
    "    print(\"-------------------------Iteration {} ---------------------------\".format(i))\n",
    "    clusters = assign_clusters(X, centroids)\n",
    "    if compare_exact(cluster_previous, clusters):\n",
    "        print(\"Clusters are same as before, so exiting\")\n",
    "        break\n",
    "    cluster_previous = clusters\n",
    "    centroids = update_centroid(clusters, 2)\n",
    "    print(\"updated centroid {}\".format(centroids))\n",
    "    for key in clusters:\n",
    "        print(\"cluster[{}] - {}\".format(key, clusters[key]))\n",
    "    print(\"-----------------------------------------------------\")"
   ],
   "metadata": {
    "collapsed": false,
    "pycharm": {
     "name": "#%%\n"
    }
   }
  },
  {
   "cell_type": "code",
   "execution_count": 139,
   "outputs": [],
   "source": [
    "# Create a dataframe from clusters for easy manipulation of data.\n",
    "df = pd.DataFrame([(key, var) for (key, L) in clusters.items() for var in L], columns=['label', 'point'])\n",
    "labels = df['label'].unique().tolist()"
   ],
   "metadata": {
    "collapsed": false,
    "pycharm": {
     "name": "#%%\n"
    }
   }
  },
  {
   "cell_type": "code",
   "execution_count": 140,
   "outputs": [
    {
     "data": {
      "text/plain": "<Figure size 1080x720 with 1 Axes>",
      "image/png": "[encoded data removed]"
     },
     "metadata": {
      "needs_background": "light"
     },
     "output_type": "display_data"
    }
   ],
   "source": [
    "plt.figure(figsize=(15, 10))\n",
    "for i in labels:\n",
    "    # filter the points by clusters\n",
    "    points = df[df['label'] == i]['point'].values\n",
    "    # Use zip operation to unpack the points\n",
    "    plt.scatter(*zip(*points), s=100, label=i)\n",
    "plt.scatter(*zip(*centroids), s=120, color='g', label='centroid')\n",
    "plt.legend()\n",
    "plt.show()"
   ],
   "metadata": {
    "collapsed": false,
    "pycharm": {
     "name": "#%%\n"
    }
   }
  }
 ],
 "metadata": {
  "kernelspec": {
   "display_name": "Python 3",
   "language": "python",
   "name": "python3"
  },
  "language_info": {
   "codemirror_mode": {
    "name": "ipython",
    "version": 2
   },
   "file_extension": ".py",
   "mimetype": "text/x-python",
   "name": "python",
   "nbconvert_exporter": "python",
   "pygments_lexer": "ipython2",
   "version": "2.7.6"
  }
 },
 "nbformat": 4,
 "nbformat_minor": 0
}